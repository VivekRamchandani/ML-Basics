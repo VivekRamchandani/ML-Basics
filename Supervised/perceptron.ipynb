{
 "cells": [
  {
   "cell_type": "markdown",
   "id": "de4ef2a1-2af7-4a38-beda-b68f6ff2ada7",
   "metadata": {},
   "source": [
    "# Perceptron Classifier\n",
    "Perceptron is the most basic classifier for *binary classification*.  It's a *linear classifier* defined as\n",
    "$$\n",
    "\\huge\n",
    "\\eqalign{\n",
    "h(x; \\theta) &= \\text {sign}(\\theta_1x_1 + \\theta_2x_2 + \\cdots + \\theta_nx_n + \\theta_0)\\\\\n",
    "\t&= \\text {sign}(\\theta\\cdot x + \\theta_0) = \\cases{\n",
    "\t\t+1  & if $ \\theta \\cdot x + \\theta_0 \\ge 0$ \\\\\n",
    "\t\t-1 & if $ \\theta \\cdot x + \\theta_0 < 0$\n",
    "\t} \\\\\n",
    "}\n",
    "$$\n",
    "where:\n",
    "$$\n",
    "\\huge\n",
    "\\eqalign {\n",
    "&x = (x_1, x_2, \\dots, x_n) \\rightarrow \\text {Inputs (a vector)}\\\\\n",
    "&\\theta = (\\theta_1, \\theta_2, \\dots, \\theta_n) \\rightarrow \\text {Weights assigned to each feature}\\\\\n",
    "&\\theta_0 \\rightarrow \\text {Bias term (helps shift the decision bourndary)}\\\\\n",
    "}\n",
    "$$\n",
    "\n",
    "$\\huge \\text {sign}$ function of the inner product between the parameter $\\huge \\theta$ and input $\\huge x$ maps to $\\huge \\pm 1$ labels. Geometrically, $\\huge \\theta \\cdot x + \\theta_0 = 0$ describes a hyperplane in a $\\huge n$-dimensional space uniquely determined by the normal vector $\\huge \\theta$. Any point that lines on the same side as normal vector $\\huge \\theta$ is labeled $\\huge +1$, while any point on the opposite side is labeled $\\huge -1$. As a result, $\\huge \\theta \\cdot x + \\theta_0$ represents a *decision boundary*."
   ]
  },
  {
   "cell_type": "code",
   "execution_count": 105,
   "id": "1ee75034-5c45-49b1-b9aa-cacbca2d7820",
   "metadata": {},
   "outputs": [],
   "source": [
    "import numpy as np\n",
    "import seaborn as sns\n",
    "import matplotlib.pyplot as plt\n",
    "from scipy.stats import randint\n",
    "from sklearn.datasets import load_iris\n",
    "from sklearn.model_selection import train_test_split"
   ]
  },
  {
   "cell_type": "code",
   "execution_count": 122,
   "id": "9d39870a-c1dd-4e9c-b731-ca7feec42ec5",
   "metadata": {},
   "outputs": [],
   "source": [
    "class Perceptron:\n",
    "    def __init__(self):\n",
    "        self.theta = None\n",
    "        self.bias = None\n",
    "\n",
    "    def fit(self, X, y, epoch=5):\n",
    "        \"\"\"\n",
    "        Args:\n",
    "            X: Data\n",
    "            y: labels\n",
    "            dim: Dimension of data\n",
    "            epoch: num of times to run the loop\n",
    "        \"\"\"\n",
    "\n",
    "        n = X.shape[0]\n",
    "        dim = X.shape[1]\n",
    "\n",
    "        self.theta = np.zeros(dim)\n",
    "        self.bias = 0\n",
    "        k = 1\n",
    "\n",
    "        for _ in range(epoch):\n",
    "            for i in range(n):\n",
    "                idx = randint.rvs(0, n-1, size=1)[0]\n",
    "                if y[idx] * (np.dot(self.theta, X[idx, :]) + self.bias) <= 0:\n",
    "                    eta = 1 / (k + 1)\n",
    "                    self.theta = self.theta + eta * y[idx] * X[idx, :]\n",
    "                    self.bias = self.bias + eta * y[idx]\n",
    "\n",
    "        return self\n",
    "\n",
    "    def predict(self, X_test):\n",
    "        n = X_test.shape[0]\n",
    "\n",
    "        y_pred = np.zeros(n)\n",
    "        for idx in range(n):\n",
    "            y_pred[idx] = np.sign(np.dot(self.theta, X_test[idx, :]) + self.bias)\n",
    "\n",
    "        y_pred[y_pred == 0] = -1\n",
    "\n",
    "        return y_pred\n",
    "\n",
    "    def confusion_matrix(self, y_true, y_pred):\n",
    "        tp = 0\n",
    "        fp = 0\n",
    "        tn = 0\n",
    "        fn = 0\n",
    "\n",
    "        for idx in range(y_pred.shape[0]):\n",
    "            if y_pred[idx] == 1 and y_test[idx] == 1:\n",
    "                tp += 1\n",
    "            if y_pred[idx] == 1 and y_test[idx] == -1:\n",
    "                fp += 1\n",
    "            if y_pred[idx] == -1 and y_test[idx] == -1:\n",
    "                tn += 1\n",
    "            if y_pred[idx] == -1 and y_test[idx] == 1:\n",
    "                fn += 1\n",
    "\n",
    "        return np.array([ [tn, fp], [fn, tp] ])"
   ]
  },
  {
   "cell_type": "code",
   "execution_count": 92,
   "id": "8bb6f15e-434a-449a-b9df-7af96abff857",
   "metadata": {},
   "outputs": [],
   "source": [
    "iris = load_iris()\n",
    "X = iris.data[:100, :]\n",
    "y = 2 * iris.target[:100] - 1"
   ]
  },
  {
   "cell_type": "code",
   "execution_count": 22,
   "id": "6235667c-ce17-46ed-8662-2605bd85c14f",
   "metadata": {},
   "outputs": [],
   "source": [
    "X_train, X_test, y_train, y_test = train_test_split(X, y, test_size=0.2, random_state=42)"
   ]
  },
  {
   "cell_type": "code",
   "execution_count": 123,
   "id": "2af8fe71-c998-471a-9fbd-b1f694bed2b8",
   "metadata": {},
   "outputs": [],
   "source": [
    "clf = Perceptron().fit(X_train, y_train)\n",
    "y_pred = clf.predict(X_test)"
   ]
  },
  {
   "cell_type": "code",
   "execution_count": 124,
   "id": "17fbb5f1-6cc7-4804-8789-b2f1c54ec38c",
   "metadata": {},
   "outputs": [
    {
     "data": {
      "text/plain": [
       "array([[12,  0],\n",
       "       [ 0,  8]])"
      ]
     },
     "execution_count": 124,
     "metadata": {},
     "output_type": "execute_result"
    }
   ],
   "source": [
    "cmt = clf.confusion_matrix(y_test, y_pred)\n",
    "cmt"
   ]
  },
  {
   "cell_type": "code",
   "execution_count": 131,
   "id": "cfaf0008-4200-47e7-9301-b5c3fe3f8748",
   "metadata": {},
   "outputs": [
    {
     "data": {
      "image/png": "[encoded data removed]",
      "text/plain": [
       "<Figure size 640x480 with 2 Axes>"
      ]
     },
     "metadata": {},
     "output_type": "display_data"
    }
   ],
   "source": [
    "plt.figure()\n",
    "sns.heatmap(cmt, annot=True, fmt=\"d\", cmap=\"PuBu\")\n",
    "plt.title(\"Confusion Matrix\")\n",
    "plt.ylabel(\"Actual\")\n",
    "plt.xlabel(\"Predicted\")\n",
    "plt.show()"
   ]
  },
  {
   "cell_type": "code",
   "execution_count": null,
   "id": "15197195-1498-48da-aea4-599bd35342b6",
   "metadata": {},
   "outputs": [],
   "source": []
  }
 ],
 "metadata": {
  "kernelspec": {
   "display_name": "ML",
   "language": "python",
   "name": "ml"
  },
  "language_info": {
   "codemirror_mode": {
    "name": "ipython",
    "version": 3
   },
   "file_extension": ".py",
   "mimetype": "text/x-python",
   "name": "python",
   "nbconvert_exporter": "python",
   "pygments_lexer": "ipython3",
   "version": "3.12.7"
  }
 },
 "nbformat": 4,
 "nbformat_minor": 5
}
