{
 "cells": [
  {
   "cell_type": "markdown",
   "id": "de4ef2a1-2af7-4a38-beda-b68f6ff2ada7",
   "metadata": {},
   "source": [
    "# Perceptron Classifier\n",
    "Perceptron is the most basic classifier for *binary classification*.  It's a *linear classifier* defined as\n",
    "$$\n",
    "\\huge\n",
    "\\eqalign{\n",
    "h(x; \\theta) &= \\text {sign}(\\theta_1x_1 + \\theta_2x_2 + \\cdots + \\theta_nx_n + \\theta_0)\\\\\n",
    "\t&= \\text {sign}(\\theta\\cdot x + \\theta_0) = \\cases{\n",
    "\t\t+1  & if $ \\theta \\cdot x + \\theta_0 \\ge 0$ \\\\\n",
    "\t\t-1 & if $ \\theta \\cdot x + \\theta_0 < 0$\n",
    "\t} \\\\\n",
    "}\n",
    "$$\n",
    "where:\n",
    "$$\n",
    "\\huge\n",
    "\\eqalign {\n",
    "&x = (x_1, x_2, \\dots, x_n) \\rightarrow \\text {Inputs (a vector)}\\\\\n",
    "&\\theta = (\\theta_1, \\theta_2, \\dots, \\theta_n) \\rightarrow \\text {Weights assigned to each feature}\\\\\n",
    "&\\theta_0 \\rightarrow \\text {Bias term (helps shift the decision bourndary)}\\\\\n",
    "}\n",
    "$$\n",
    "\n",
    "$\\huge \\text {sign}$ function of the inner product between the parameter $\\huge \\theta$ and input $\\huge x$ maps to $\\huge \\pm 1$ labels. Geometrically, $\\huge \\theta \\cdot x + \\theta_0 = 0$ describes a hyperplane in a $\\huge n$-dimensional space uniquely determined by the normal vector $\\huge \\theta$. Any point that lines on the same side as normal vector $\\huge \\theta$ is labeled $\\huge +1$, while any point on the opposite side is labeled $\\huge -1$. As a result, $\\huge \\theta \\cdot x + \\theta_0$ represents a *decision boundary*."
   ]
  },
  {
   "cell_type": "code",
   "execution_count": 2,
   "id": "1ee75034-5c45-49b1-b9aa-cacbca2d7820",
   "metadata": {},
   "outputs": [],
   "source": [
    "import numpy as np\n",
    "from scipy.stats import randint"
   ]
  },
  {
   "cell_type": "code",
   "execution_count": 18,
   "id": "9d39870a-c1dd-4e9c-b731-ca7feec42ec5",
   "metadata": {},
   "outputs": [],
   "source": [
    "class Perceptron:\n",
    "    def __init__(self):\n",
    "        self.theta = None\n",
    "        self.bias = None\n",
    "\n",
    "    def fit(self, X, y, epoch=5):\n",
    "        \"\"\"\n",
    "        Args:\n",
    "            X: Data\n",
    "            y: labels\n",
    "            dim: Dimension of data\n",
    "            epoch: num of times to run the loop\n",
    "        \"\"\"\n",
    "\n",
    "        n = X.shape[0]\n",
    "        dim = X.shape[1]\n",
    "\n",
    "        self.theta = np.zeros(dim)\n",
    "        self.bias = 0\n",
    "        k = 1\n",
    "\n",
    "        for _ in range(epoch):\n",
    "            for i in range(n):\n",
    "                idx = randint.rvs(0, n-1, size=1)[0]\n",
    "                if y[idx] * (np.dot(self.theta, X[idx, :]) + self.bias) <= 0:\n",
    "                    eta = 1 / (k + 1)\n",
    "                    self.theta = self.theta + eta * y[idx] * X[idx, :]\n",
    "                    self.bias = self.bias + eta * y[idx]"
   ]
  },
  {
   "cell_type": "code",
   "execution_count": null,
   "id": "9a52871c-39e7-4671-9bf5-a3a8b4e650ce",
   "metadata": {},
   "outputs": [],
   "source": []
  }
 ],
 "metadata": {
  "kernelspec": {
   "display_name": "ML",
   "language": "python",
   "name": "ml"
  },
  "language_info": {
   "codemirror_mode": {
    "name": "ipython",
    "version": 3
   },
   "file_extension": ".py",
   "mimetype": "text/x-python",
   "name": "python",
   "nbconvert_exporter": "python",
   "pygments_lexer": "ipython3",
   "version": "3.12.7"
  }
 },
 "nbformat": 4,
 "nbformat_minor": 5
}
