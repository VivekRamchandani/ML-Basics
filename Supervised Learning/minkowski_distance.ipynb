{
 "cells": [
  {
   "cell_type": "markdown",
   "id": "ef7838c2",
   "metadata": {},
   "source": [
    "# **Minkowski Distance Metric**\n",
    "\n",
    "We can genralize Manhattan and Euclidean Distance to what is called Minkowski Distance metric\n",
    "\n",
    "$$\n",
    "\\huge d(x, y) = \\left(\\sum_{i=1}^n|x_i - y_i|^r\\right)^{\\frac{1}{r}}\n",
    "$$\n",
    "\n",
    "**When** \n",
    "\n",
    "- r = 1: The formula is Manhattan Distance\n",
    "    \n",
    "- r = 2: The formula is Euclidean Distance\n",
    "\n",
    "- r = ∞: Supremum Distance\n",
    "\n",
    "<br>\n",
    "\n",
    "The following chart shows 8 users and their ratings\n",
    "of eight bands.\n",
    "<br>\n",
    "\n",
    "\n",
    "\n",
    "| | Angelica | Bill | Chan | Dan | Hailey | Jordyn | Sam | Veronica |\n",
    "|:-|:-:|:-:|:-:|:-:|:-:|:-:|:-:|:-:|\n",
    "|Blues Traveler | 3.5 | 2 | 5 | 3 | - | - | 5 | 3 |\n",
    "|Broken Bells | 2 | 3.5 | 1 | 4 | 4 | 4.5 | 2 | - |\n",
    "|Deadmau5| -| 4| 1| 4.5| 1| 4| -| -|\n",
    "|Norah Jones| 4.5| -| 3| -| 4| 5| 3| 5|\n",
    "|Phoenix |5 |2 |5 |3 |- |5 |5 |4|\n",
    "|Slightly Stoopid| 1.5| 3.5| 1| 4.5| -| 4.5| 4| 2.5|\n",
    "|The Strokes| 2.5| -| -| 4| 4| 4| 5| 3|\n",
    "|Vampire Weekend| 2| 3| -| 2| 1| 4| -| -|\n",
    "\n",
    "<br>\n",
    "<br>"
   ]
  },
  {
   "cell_type": "code",
   "execution_count": 3,
   "id": "44e68630",
   "metadata": {},
   "outputs": [],
   "source": [
    "users = {\"Angelica\": {\"Blues Traveler\": 3.5, \"Broken Bells\": 2.0, \n",
    "                        \"Norah Jones\": 4.5, \"Phoenix\": 5.0,\n",
    "                        \"Slightly Stoopid\": 1.5,\n",
    "                        \"The Strokes\": 2.5, \"Vampire Weekend\": 2.0},\n",
    "        \"Bill\": {\"Blues Traveler\": 2.0, \"Broken Bells\": 3.5,\n",
    "                    \"Deadmau5\": 4.0, \"Phoenix\": 2.0,\n",
    "                    \"Slightly Stoopid\": 3.5, \"Vampire Weekend\": 3.0},\n",
    "        \"Chan\": {\"Blues Traveler\": 5.0, \"Broken Bells\": 1.0,\n",
    "                    \"Deadmau5\": 1.0, \"Norah Jones\": 3.0,\n",
    "                    \"Phoenix\": 5, \"Slightly Stoopid\": 1.0},\n",
    "        \"Dan\": {\"Blues Traveler\": 3.0, \"Broken Bells\": 4.0,\n",
    "                    \"Deadmau5\": 4.5, \"Phoenix\": 3.0,\n",
    "                    \"Slightly Stoopid\": 4.5, \"The Strokes\": 4.0,\n",
    "                    \"Vampire Weekend\": 2.0},\n",
    "        \"Hailey\": {\"Broken Bells\": 4.0, \"Deadmau5\": 1.0,\n",
    "                    \"Norah Jones\": 4.0, \"The Strokes\": 4.0,\n",
    "                    \"Vampire Weekend\": 1.0},\n",
    "        \"Jordyn\": {\"Broken Bells\": 4.5, \"Deadmau5\": 4.0, \"Norah Jones\": 5.0,\n",
    "                    \"Phoenix\": 5.0, \"Slightly Stoopid\": 4.5,\n",
    "                    \"The Strokes\": 4.0, \"Vampire Weekend\": 4.0},\n",
    "        \"Sam\": {\"Blues Traveler\": 5.0, \"Broken Bells\": 2.0,\n",
    "                    \"Norah Jones\": 3.0, \"Phoenix\": 5.0,\n",
    "                    \"Slightly Stoopid\": 4.0, \"The Strokes\": 5.0},\n",
    "        \"Veronica\": {\"Blues Traveler\": 3.0, \"Norah Jones\": 5.0,\n",
    "                        \"Phoenix\": 4.0, \"Slightly Stoopid\": 2.5,\n",
    "                        \"The Strokes\": 3.0}}"
   ]
  },
  {
   "cell_type": "code",
   "execution_count": 4,
   "id": "96b6fe4f",
   "metadata": {},
   "outputs": [],
   "source": [
    "def minkowski(set1, set2, r: int | None=None, exceptionList: list = []):\n",
    "    \"\"\"Compute Minkowski Distance\"\"\"\n",
    "    \n",
    "    commonArtists = []\n",
    "    distance = 0\n",
    "    # finding common artists\n",
    "    for artist in set1:\n",
    "        if (artist in set2) and ( artist not in exceptionList):\n",
    "            commonArtists.append(artist)\n",
    "            \n",
    "    # check if common artists exists\n",
    "    if not len(commonArtists):\n",
    "        return 0    # return 0 if there aren't any common artists\n",
    "    # Set r if not provided\n",
    "    elif not r:\n",
    "        r = len(commonArtists)\n",
    "        \n",
    "    # finding distance\n",
    "    for artist in commonArtists:\n",
    "        distance += pow(abs(set1[artist] - set2[artist]), r)\n",
    "        \n",
    "    # Normalization (range 0-1)\n",
    "    normalized = pow(distance, 1/r) / (pow(len(commonArtists), 1/r) * 5)\n",
    "    \n",
    "    return round(normalized, 4)"
   ]
  },
  {
   "cell_type": "markdown",
   "id": "bd8ba699",
   "metadata": {},
   "source": [
    "In the above code normalization is done using min-max normalization:\n",
    "<br>\n",
    "\n",
    "$$\n",
    "    v^{'}_i = \\frac{v_i - min_A}{max_A - min_A}(new\\_max_A - new\\_min_A) + new\\_min_A\n",
    "$$"
   ]
  },
  {
   "cell_type": "code",
   "execution_count": 5,
   "id": "4d94b9f9",
   "metadata": {},
   "outputs": [
    {
     "name": "stdout",
     "output_type": "stream",
     "text": [
      "0.25\n",
      "0.2739\n",
      "0.3067\n"
     ]
    }
   ],
   "source": [
    "# Testing Minkowki distance\n",
    "print(minkowski(users['Hailey'], users['Angelica'], 1))    # 1: means manhattan distance\n",
    "print(minkowski(users['Hailey'], users['Angelica'], 2))    # 2: means euclidean distance\n",
    "print(minkowski(users['Hailey'], users['Angelica']))"
   ]
  },
  {
   "cell_type": "code",
   "execution_count": 6,
   "id": "d7f321e7",
   "metadata": {},
   "outputs": [],
   "source": [
    "def computeNearestNeighbours(username, users):\n",
    "    \"\"\"Return a sorted list of neighbours based on their distance from username\"\"\"\n",
    "    \n",
    "    distances = []\n",
    "    for user in users:\n",
    "        if user != username:\n",
    "            distance = minkowski(users[username], users[user])\n",
    "            distances.append((user, distance))\n",
    "    distances.sort(key=lambda aTuple: aTuple[1])\n",
    "    return distances"
   ]
  },
  {
   "cell_type": "code",
   "execution_count": 15,
   "id": "7344758e",
   "metadata": {},
   "outputs": [
    {
     "name": "stdout",
     "output_type": "stream",
     "text": [
      "[('Veronica', 0.2), ('Sam', 0.2988), ('Angelica', 0.3067), ('Chan', 0.4211), ('Bill', 0.4541), ('Dan', 0.4958), ('Jordyn', 0.4997)]\n",
      "[('Veronica', 0.168), ('Chan', 0.2531), ('Hailey', 0.3067), ('Sam', 0.4195), ('Bill', 0.4509), ('Dan', 0.4583), ('Jordyn', 0.4729)]\n",
      "[('Angelica', 0.168), ('Hailey', 0.2), ('Dan', 0.2913), ('Jordyn', 0.2913), ('Bill', 0.2988), ('Chan', 0.3513), ('Sam', 0.3674)]\n"
     ]
    }
   ],
   "source": [
    "# Testing computeNearestNeighbours\n",
    "print(computeNearestNeighbours('Hailey', users))\n",
    "print(computeNearestNeighbours('Angelica', users))\n",
    "print(computeNearestNeighbours('Veronica', users))"
   ]
  },
  {
   "cell_type": "code",
   "execution_count": 12,
   "id": "bde92ee4",
   "metadata": {},
   "outputs": [],
   "source": [
    "def recommend(username, users):\n",
    "    \"\"\"Recommend artists\"\"\"\n",
    "    \n",
    "    recommendations = {}\n",
    "    userRatings = users[username]\n",
    "    # unpacking first two neighbour from list\n",
    "    neighbours = [neighbour for neighbour, _ in computeNearestNeighbours(username, users)][0:2]\n",
    "    for neighbour in neighbours:\n",
    "        neighbourRatings = users[neighbour]\n",
    "        for artist in neighbourRatings:\n",
    "            if (artist not in userRatings) and (artist not in recommendations):\n",
    "                recommendations[artist] = neighbourRatings[artist]\n",
    "                \n",
    "    # returning recommendations in sorted order\n",
    "    return sorted(recommendations.items(), key=lambda aTuple:aTuple[1], reverse=True)"
   ]
  },
  {
   "cell_type": "code",
   "execution_count": 14,
   "id": "e9b5ed4c",
   "metadata": {},
   "outputs": [
    {
     "name": "stdout",
     "output_type": "stream",
     "text": [
      "[('Phoenix', 4.0), ('Blues Traveler', 3.0), ('Slightly Stoopid', 2.5)]\n",
      "[('Deadmau5', 1.0)]\n",
      "[('Broken Bells', 2.0), ('Vampire Weekend', 2.0), ('Deadmau5', 1.0)]\n"
     ]
    }
   ],
   "source": [
    "# Testing recommend\n",
    "print(recommend('Hailey', users))\n",
    "print(recommend('Angelica', users))\n",
    "print(recommend('Veronica', users))"
   ]
  }
 ],
 "metadata": {
  "kernelspec": {
   "display_name": "ML",
   "language": "python",
   "name": "ml"
  },
  "language_info": {
   "codemirror_mode": {
    "name": "ipython",
    "version": 3
   },
   "file_extension": ".py",
   "mimetype": "text/x-python",
   "name": "python",
   "nbconvert_exporter": "python",
   "pygments_lexer": "ipython3",
   "version": "3.12.7"
  }
 },
 "nbformat": 4,
 "nbformat_minor": 5
}
