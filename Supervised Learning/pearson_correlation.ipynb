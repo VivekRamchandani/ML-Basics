{
 "cells": [
  {
   "cell_type": "code",
   "execution_count": 39,
   "id": "37a198db-7822-40eb-9315-af24768fe2b3",
   "metadata": {},
   "outputs": [],
   "source": [
    "import pandas as pd\n",
    "import numpy as np"
   ]
  },
  {
   "cell_type": "markdown",
   "id": "6de9ad91-72c8-4fc6-904a-548613c2e9f8",
   "metadata": {},
   "source": [
    "# Pearson Correlation\n",
    "\n",
    "$$\n",
    "\\huge r = \\frac{\\sum_{i=1}^n (x - \\overline{x})(y - \\overline{y})}\n",
    "{\\sqrt{\\sum_{i=1}^n (x - \\overline{x})^2}\\sqrt{\\sum_{i=1}^n (y - \\overline{y})^2}}\n",
    "$$"
   ]
  },
  {
   "cell_type": "code",
   "execution_count": 1,
   "id": "63aa678f-4a80-45b9-900d-8e6a227fb4df",
   "metadata": {},
   "outputs": [],
   "source": [
    "        users = {\"Angelica\": {\"Blues Traveler\": 3.5, \"Broken Bells\": 2.0, \n",
    "                        \"Norah Jones\": 4.5, \"Phoenix\": 5.0,\n",
    "                        \"Slightly Stoopid\": 1.5,\n",
    "                        \"The Strokes\": 2.5, \"Vampire Weekend\": 2.0},\n",
    "        \"Bill\": {\"Blues Traveler\": 2.0, \"Broken Bells\": 3.5,\n",
    "                    \"Deadmau5\": 4.0, \"Phoenix\": 2.0,\n",
    "                    \"Slightly Stoopid\": 3.5, \"Vampire Weekend\": 3.0},\n",
    "        \"Chan\": {\"Blues Traveler\": 5.0, \"Broken Bells\": 1.0,\n",
    "                    \"Deadmau5\": 1.0, \"Norah Jones\": 3.0,\n",
    "                    \"Phoenix\": 5, \"Slightly Stoopid\": 1.0},\n",
    "        \"Dan\": {\"Blues Traveler\": 3.0, \"Broken Bells\": 4.0,\n",
    "                    \"Deadmau5\": 4.5, \"Phoenix\": 3.0,\n",
    "                    \"Slightly Stoopid\": 4.5, \"The Strokes\": 4.0,\n",
    "                    \"Vampire Weekend\": 2.0},\n",
    "        \"Hailey\": {\"Broken Bells\": 4.0, \"Deadmau5\": 1.0,\n",
    "                    \"Norah Jones\": 4.0, \"The Strokes\": 4.0,\n",
    "                    \"Vampire Weekend\": 1.0},\n",
    "        \"Jordyn\": {\"Broken Bells\": 4.5, \"Deadmau5\": 4.0, \"Norah Jones\": 5.0,\n",
    "                    \"Phoenix\": 5.0, \"Slightly Stoopid\": 4.5,\n",
    "                    \"The Strokes\": 4.0, \"Vampire Weekend\": 4.0},\n",
    "        \"Sam\": {\"Blues Traveler\": 5.0, \"Broken Bells\": 2.0,\n",
    "                    \"Norah Jones\": 3.0, \"Phoenix\": 5.0,\n",
    "                    \"Slightly Stoopid\": 4.0, \"The Strokes\": 5.0},\n",
    "        \"Veronica\": {\"Blues Traveler\": 3.0, \"Norah Jones\": 5.0,\n",
    "                        \"Phoenix\": 4.0, \"Slightly Stoopid\": 2.5,\n",
    "                        \"The Strokes\": 3.0}}"
   ]
  },
  {
   "cell_type": "code",
   "execution_count": 6,
   "id": "265d258e-1f11-4aea-a8a2-d0dfb305ccd4",
   "metadata": {},
   "outputs": [
    {
     "data": {
      "text/html": [
       "<div>\n",
       "<style scoped>\n",
       "    .dataframe tbody tr th:only-of-type {\n",
       "        vertical-align: middle;\n",
       "    }\n",
       "\n",
       "    .dataframe tbody tr th {\n",
       "        vertical-align: top;\n",
       "    }\n",
       "\n",
       "    .dataframe thead th {\n",
       "        text-align: right;\n",
       "    }\n",
       "</style>\n",
       "<table border=\"1\" class=\"dataframe\">\n",
       "  <thead>\n",
       "    <tr style=\"text-align: right;\">\n",
       "      <th></th>\n",
       "      <th>Angelica</th>\n",
       "      <th>Bill</th>\n",
       "      <th>Chan</th>\n",
       "      <th>Dan</th>\n",
       "      <th>Hailey</th>\n",
       "      <th>Jordyn</th>\n",
       "      <th>Sam</th>\n",
       "      <th>Veronica</th>\n",
       "    </tr>\n",
       "  </thead>\n",
       "  <tbody>\n",
       "    <tr>\n",
       "      <th>Blues Traveler</th>\n",
       "      <td>3.5</td>\n",
       "      <td>2.0</td>\n",
       "      <td>5.0</td>\n",
       "      <td>3.0</td>\n",
       "      <td>NaN</td>\n",
       "      <td>NaN</td>\n",
       "      <td>5.0</td>\n",
       "      <td>3.0</td>\n",
       "    </tr>\n",
       "    <tr>\n",
       "      <th>Broken Bells</th>\n",
       "      <td>2.0</td>\n",
       "      <td>3.5</td>\n",
       "      <td>1.0</td>\n",
       "      <td>4.0</td>\n",
       "      <td>4.0</td>\n",
       "      <td>4.5</td>\n",
       "      <td>2.0</td>\n",
       "      <td>NaN</td>\n",
       "    </tr>\n",
       "    <tr>\n",
       "      <th>Norah Jones</th>\n",
       "      <td>4.5</td>\n",
       "      <td>NaN</td>\n",
       "      <td>3.0</td>\n",
       "      <td>NaN</td>\n",
       "      <td>4.0</td>\n",
       "      <td>5.0</td>\n",
       "      <td>3.0</td>\n",
       "      <td>5.0</td>\n",
       "    </tr>\n",
       "    <tr>\n",
       "      <th>Phoenix</th>\n",
       "      <td>5.0</td>\n",
       "      <td>2.0</td>\n",
       "      <td>5.0</td>\n",
       "      <td>3.0</td>\n",
       "      <td>NaN</td>\n",
       "      <td>5.0</td>\n",
       "      <td>5.0</td>\n",
       "      <td>4.0</td>\n",
       "    </tr>\n",
       "    <tr>\n",
       "      <th>Slightly Stoopid</th>\n",
       "      <td>1.5</td>\n",
       "      <td>3.5</td>\n",
       "      <td>1.0</td>\n",
       "      <td>4.5</td>\n",
       "      <td>NaN</td>\n",
       "      <td>4.5</td>\n",
       "      <td>4.0</td>\n",
       "      <td>2.5</td>\n",
       "    </tr>\n",
       "    <tr>\n",
       "      <th>The Strokes</th>\n",
       "      <td>2.5</td>\n",
       "      <td>NaN</td>\n",
       "      <td>NaN</td>\n",
       "      <td>4.0</td>\n",
       "      <td>4.0</td>\n",
       "      <td>4.0</td>\n",
       "      <td>5.0</td>\n",
       "      <td>3.0</td>\n",
       "    </tr>\n",
       "    <tr>\n",
       "      <th>Vampire Weekend</th>\n",
       "      <td>2.0</td>\n",
       "      <td>3.0</td>\n",
       "      <td>NaN</td>\n",
       "      <td>2.0</td>\n",
       "      <td>1.0</td>\n",
       "      <td>4.0</td>\n",
       "      <td>NaN</td>\n",
       "      <td>NaN</td>\n",
       "    </tr>\n",
       "    <tr>\n",
       "      <th>Deadmau5</th>\n",
       "      <td>NaN</td>\n",
       "      <td>4.0</td>\n",
       "      <td>1.0</td>\n",
       "      <td>4.5</td>\n",
       "      <td>1.0</td>\n",
       "      <td>4.0</td>\n",
       "      <td>NaN</td>\n",
       "      <td>NaN</td>\n",
       "    </tr>\n",
       "  </tbody>\n",
       "</table>\n",
       "</div>"
      ],
      "text/plain": [
       "                  Angelica  Bill  Chan  Dan  Hailey  Jordyn  Sam  Veronica\n",
       "Blues Traveler         3.5   2.0   5.0  3.0     NaN     NaN  5.0       3.0\n",
       "Broken Bells           2.0   3.5   1.0  4.0     4.0     4.5  2.0       NaN\n",
       "Norah Jones            4.5   NaN   3.0  NaN     4.0     5.0  3.0       5.0\n",
       "Phoenix                5.0   2.0   5.0  3.0     NaN     5.0  5.0       4.0\n",
       "Slightly Stoopid       1.5   3.5   1.0  4.5     NaN     4.5  4.0       2.5\n",
       "The Strokes            2.5   NaN   NaN  4.0     4.0     4.0  5.0       3.0\n",
       "Vampire Weekend        2.0   3.0   NaN  2.0     1.0     4.0  NaN       NaN\n",
       "Deadmau5               NaN   4.0   1.0  4.5     1.0     4.0  NaN       NaN"
      ]
     },
     "execution_count": 6,
     "metadata": {},
     "output_type": "execute_result"
    }
   ],
   "source": [
    "df = pd.DataFrame(users)\n",
    "df"
   ]
  },
  {
   "cell_type": "code",
   "execution_count": 10,
   "id": "4460927a-5875-4cf6-88a5-2f716b73c8c4",
   "metadata": {},
   "outputs": [
    {
     "data": {
      "text/plain": [
       "Blues Traveler       True\n",
       "Broken Bells         True\n",
       "Norah Jones          True\n",
       "Phoenix              True\n",
       "Slightly Stoopid     True\n",
       "The Strokes          True\n",
       "Vampire Weekend      True\n",
       "Deadmau5            False\n",
       "Name: Angelica, dtype: bool"
      ]
     },
     "execution_count": 10,
     "metadata": {},
     "output_type": "execute_result"
    }
   ],
   "source": [
    "ser = df[\"Angelica\"].notna()\n",
    "# df[\"Angelica\"].loc[ser == True]\n",
    "ser"
   ]
  },
  {
   "cell_type": "code",
   "execution_count": 48,
   "id": "daf48439-5eb7-4d14-abf7-9c087e211d66",
   "metadata": {},
   "outputs": [],
   "source": [
    "def pearson(user1, user2):\n",
    "    ser1 = user1.notna()\n",
    "    user1 = user1.loc[ser1 == True]\n",
    "    user2 = user2.loc[user1.index]\n",
    "    ser2 = user2.notna()\n",
    "    user2 = user2.loc[ser2 == True]\n",
    "    user1 = user1.loc[user2.index]\n",
    "\n",
    "    x_mean = user1.mean()\n",
    "    y_mean = user2.mean()\n",
    "    \n",
    "    x_dev = (user1.to_numpy() - x_mean)\n",
    "    y_dev = (user2.to_numpy() - y_mean)\n",
    "\n",
    "    x_dev2 = x_dev ** 2\n",
    "    y_dev2 = y_dev ** 2\n",
    "    \n",
    "    xy_dev = x_dev * y_dev\n",
    "    cov_xy = xy_dev.mean()\n",
    "\n",
    "    sx = np.sqrt(x_dev2.mean())\n",
    "    sy = np.sqrt(y_dev2.mean())\n",
    "\n",
    "    # print(cov_xy)\n",
    "    # print(sx)\n",
    "    # print(sy)\n",
    "\n",
    "    # print(cov_xy/(sx * sy))\n",
    "\n",
    "    return float(cov_xy/(sx * sy))"
   ]
  },
  {
   "cell_type": "code",
   "execution_count": 50,
   "id": "4a2cf8e1-bb73-4902-b5ee-603d0dee3f92",
   "metadata": {},
   "outputs": [
    {
     "data": {
      "text/plain": [
       "0.7639748605475433"
      ]
     },
     "execution_count": 50,
     "metadata": {},
     "output_type": "execute_result"
    }
   ],
   "source": [
    "pearson(df[\"Angelica\"], df[\"Jordyn\"])"
   ]
  }
 ],
 "metadata": {
  "kernelspec": {
   "display_name": "ML",
   "language": "python",
   "name": "ml"
  },
  "language_info": {
   "codemirror_mode": {
    "name": "ipython",
    "version": 3
   },
   "file_extension": ".py",
   "mimetype": "text/x-python",
   "name": "python",
   "nbconvert_exporter": "python",
   "pygments_lexer": "ipython3",
   "version": "3.12.7"
  }
 },
 "nbformat": 4,
 "nbformat_minor": 5
}
